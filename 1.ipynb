{
 "cells": [
  {
   "cell_type": "code",
   "execution_count": 26,
   "metadata": {
    "collapsed": true
   },
   "outputs": [],
   "source": [
    "import pandas as pd\n",
    "import numpy as np\n",
    "from sklearn.ensemble import RandomForestClassifier\n",
    "from sklearn.model_selection import GridSearchCV"
   ]
  },
  {
   "cell_type": "code",
   "execution_count": 27,
   "outputs": [],
   "source": [
    "data = pd.read_csv(r'https://stepik.org/media/attachments/course/4852/training_mush.csv')"
   ],
   "metadata": {
    "collapsed": false
   }
  },
  {
   "cell_type": "code",
   "execution_count": 28,
   "outputs": [],
   "source": [
    "clf_rf = RandomForestClassifier(random_state=0)\n",
    "parametrs = {'n_estimators': [10, 20, 30, 40], 'max_depth': [1, 3, 5, 7, 9, 11],'min_samples_leaf': [1, 2, 3, 4, 5, 6],\n",
    "             'min_samples_split': [2, 4, 6, 8]}\n",
    "grid_search_cv_clf = GridSearchCV(clf_rf, parametrs, n_jobs =-1, cv=3)\n",
    "y=data['class']\n",
    "X=data.drop(['class'], axis=1)\n",
    "grid_search_cv_clf.fit(X, y)\n",
    "best_clf = grid_search_cv_clf.best_params_"
   ],
   "metadata": {
    "collapsed": false
   }
  },
  {
   "cell_type": "code",
   "execution_count": 30,
   "outputs": [
    {
     "data": {
      "text/plain": "0    1069\n1     962\ndtype: int64"
     },
     "execution_count": 30,
     "metadata": {},
     "output_type": "execute_result"
    }
   ],
   "source": [
    "X_test = pd.read_csv(r'https://stepik.org/media/attachments/course/4852/testing_mush.csv')\n",
    "result = rf.predict(X_test)\n",
    "pd.Series(result).value_counts()"
   ],
   "metadata": {
    "collapsed": false
   }
  }
 ],
 "metadata": {
  "kernelspec": {
   "display_name": "Python 3",
   "language": "python",
   "name": "python3"
  },
  "language_info": {
   "codemirror_mode": {
    "name": "ipython",
    "version": 2
   },
   "file_extension": ".py",
   "mimetype": "text/x-python",
   "name": "python",
   "nbconvert_exporter": "python",
   "pygments_lexer": "ipython2",
   "version": "2.7.6"
  }
 },
 "nbformat": 4,
 "nbformat_minor": 0
}
